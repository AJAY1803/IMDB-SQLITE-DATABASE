{
 "cells": [
  {
   "cell_type": "markdown",
   "metadata": {},
   "source": [
    "***Question 1:\n",
    "IMDB.sqlite' database contains all details of movies and has three tables with name IMDB, genre and earning.\n",
    "Find the count of each genre present in IMDB movie dataset?\n",
    "Print the Genre and number of movies present in that genre.\n",
    "Note: Ignore the empty value present in genre.***"
   ]
  },
  {
   "cell_type": "code",
   "execution_count": 14,
   "metadata": {},
   "outputs": [
    {
     "name": "stdout",
     "output_type": "stream",
     "text": [
      "Drama 77\n",
      "Adventure 43\n",
      "Action 33\n",
      "Comedy 31\n",
      "Biography 21\n",
      "Sci-Fi 18\n",
      "Thriller 14\n",
      "Animation 13\n",
      "Romance 13\n",
      "Crime 11\n",
      "Fantasy 7\n",
      "Mystery 7\n",
      "History 6\n",
      "Sport 3\n",
      "Music 3\n",
      "Family 3\n",
      "Horror 2\n",
      "Western 2\n",
      "War 2\n",
      "Musical 1\n"
     ]
    }
   ],
   "source": [
    "import sqlite3\n",
    "import pandas as pd\n",
    "\n",
    "db=sqlite3.connect(\"IMDB.sqlite\")\n",
    "\n",
    "file_data=pd.read_sql_query(\"Select * from genre\",db)\n",
    "df=file_data[\"genre\"]\n",
    "df.dropna(inplace=True)\n",
    "idx=df[df==\"\"].index\n",
    "df.drop(idx,inplace=True)\n",
    "genre_count=df.value_counts()\n",
    "genre_name=genre_count.index\n",
    "number_of_movie=genre_count.values\n",
    "\n",
    "for i in range(len(genre_name)):\n",
    "    print(genre_name[i],number_of_movie[i])"
   ]
  },
  {
   "cell_type": "markdown",
   "metadata": {},
   "source": [
    "***question 2:\n",
    "IMDB.sqlite' database contains all details of movies and has three tables with name IMDB, genre and earning.\n",
    "Find the highest-grossing movie (i.e domestic earning + worldwide earning) in IMDB database.\n",
    "Print the rating of that movie.***"
   ]
  },
  {
   "cell_type": "code",
   "execution_count": 239,
   "metadata": {},
   "outputs": [
    {
     "name": "stdout",
     "output_type": "stream",
     "text": [
      "8.1\n"
     ]
    }
   ],
   "source": [
    "import sqlite3\n",
    "import pandas as pd\n",
    "\n",
    "db=sqlite3.connect(\"IMDB.sqlite\")\n",
    "\n",
    "imbd=pd.read_sql_query(\"Select * from IMDB\",db)\n",
    "earnings=pd.read_sql_query(\"Select * from earning\",db)\n",
    "\n",
    "earnings[\"Total\"]=sum(earnings[\"Domestic\"],earnings[\"Worldwide\"])\n",
    "earnings[\"Movie_id\"]=pd.to_numeric(earnings[\"Movie_id\"])\n",
    "highest_earning=max(earnings[\"Total\"])\n",
    "movie_id=earnings[earnings[\"Total\"]==highest_earning][\"Movie_id\"].values[0]\n",
    "\n",
    "\n",
    "imbd[\"Movie_id\"]=pd.to_numeric(imbd[\"Movie_id\"])\n",
    "idx=imbd[imbd[\"Movie_id\"]==movie_id]\n",
    "rating=idx[\"Rating\"].values[0]\n",
    "print(rating)\n"
   ]
  },
  {
   "cell_type": "markdown",
   "metadata": {},
   "source": [
    "***question 3:\n",
    "IMDB.sqlite' database contains all details of movies and has three tables with name IMDB, genre and earning.\n",
    "Find the most voted movie in IMDB Movie Database.\n",
    "Print the movie name and the rating of that movie.***"
   ]
  },
  {
   "cell_type": "code",
   "execution_count": 64,
   "metadata": {},
   "outputs": [
    {
     "name": "stdout",
     "output_type": "stream",
     "text": [
      "Inception (2010) 8.8\n"
     ]
    }
   ],
   "source": [
    "import sqlite3\n",
    "import pandas as pd\n",
    "\n",
    "db=sqlite3.connect(\"IMDB.sqlite\")\n",
    "\n",
    "imdb=pd.read_sql_query(\"Select * from IMDB\",db)\n",
    "movie_name=imdb[imdb[\"TotalVotes\"]==max(imdb[\"TotalVotes\"])][\"Title\"].values[0]\n",
    "movie_rating=imdb[imdb[\"TotalVotes\"]==max(imdb[\"TotalVotes\"])][\"Rating\"].values[0]\n",
    "print(movie_name,movie_rating)"
   ]
  },
  {
   "cell_type": "markdown",
   "metadata": {},
   "source": [
    "***Question 4:\n",
    "IMDB.sqlite database contains all details of movies and has three tables with name IMDB, genre and earning.\n",
    "Find the Movie with Longest-Running Time from IMDB Movie database.\n",
    "Print the name of movie and running time as integer value.***"
   ]
  },
  {
   "cell_type": "code",
   "execution_count": 103,
   "metadata": {},
   "outputs": [
    {
     "name": "stdout",
     "output_type": "stream",
     "text": [
      "The Wolf of Wall Street (2013) 180\n"
     ]
    }
   ],
   "source": [
    "import sqlite3\n",
    "import pandas as pd\n",
    "\n",
    "db=sqlite3.connect(\"IMDB.sqlite\")\n",
    "\n",
    "imdb=pd.read_sql_query(\"Select * from IMDB\",db)\n",
    "\n",
    "imdb[\"Runtime\"].replace(\"\",\"0\",inplace=True)\n",
    "imdb[\"Runtime\"]=imdb[\"Runtime\"].apply(lambda x: int(str(x).replace(\"min\",\" \")))\n",
    "imdb[\"Runtime\"]=pd.to_numeric(imdb[\"Runtime\"])\n",
    "movie_name=imdb[imdb[\"Runtime\"]==max(imdb[\"Runtime\"])][\"Title\"].values[0]\n",
    "runtime=imdb[imdb[\"Runtime\"]==max(imdb[\"Runtime\"])][\"Runtime\"].values[0]\n",
    "print(movie_name,runtime)\n"
   ]
  },
  {
   "cell_type": "markdown",
   "metadata": {},
   "source": [
    "***Question 5:\n",
    "IMDB.sqlite database contains all details of movies and has three tables with name IMDB, genre and earning.\n",
    "Find the movie which has maximum net profit in IMDB Movie Database.\n",
    "Print the movie name.\n",
    "Note: Net Profit= Total Earning(Domestic+WorldWide earning) - budget***"
   ]
  },
  {
   "cell_type": "code",
   "execution_count": 117,
   "metadata": {},
   "outputs": [
    {
     "name": "stdout",
     "output_type": "stream",
     "text": [
      "Star Wars: The Force Awakens (2015)\n"
     ]
    }
   ],
   "source": [
    "import sqlite3\n",
    "import pandas as pd\n",
    "\n",
    "db=sqlite3.connect(\"IMDB.sqlite\")\n",
    "\n",
    "imdb=pd.read_sql_query(\"Select * from IMDB\",db)\n",
    "earnings=pd.read_sql_query(\"Select * from earning\",db)\n",
    "imdb_earning=pd.merge(imdb,earnings,on=\"Movie_id\")\n",
    "imdb_earning[\"Domestic\"].replace(\"\",0,inplace=True)\n",
    "imdb_earning[\"Worldwide\"].replace(\"\",0,inplace=True)\n",
    "imdb_earning[\"Budget\"].replace(\"\",0,inplace=True)\n",
    "imdb_earning[\"Budget\"]=imdb_earning[\"Budget\"].apply(lambda x:int(float(x)))\n",
    "imdb_earning[\"Net_profit\"]=(imdb_earning[\"Domestic\"]+imdb_earning[\"Worldwide\"])-imdb_earning[\"Budget\"]\n",
    "movie_name=imdb_earning[imdb_earning[\"Net_profit\"]==max(imdb_earning[\"Net_profit\"])][\"Title\"].values[0]\n",
    "print(movie_name)"
   ]
  },
  {
   "cell_type": "markdown",
   "metadata": {},
   "source": [
    "***Question 6:\n",
    "IMDB.sqlite database contains all details of movies and has three tables with name IMDB, genre and earning.\n",
    "Find the least budgeted movie in IMDB Movie Database.\n",
    "If there is more than one least budgeted movies then print the movie which has maximum net profit.\n",
    "Note: Net Profit= Total Earning(Domestic+WorldWide earning) - budget***"
   ]
  },
  {
   "cell_type": "code",
   "execution_count": 142,
   "metadata": {},
   "outputs": [
    {
     "name": "stdout",
     "output_type": "stream",
     "text": [
      "Short Term 12 (2013)\n"
     ]
    }
   ],
   "source": [
    "import sqlite3\n",
    "import pandas as pd\n",
    "\n",
    "db=sqlite3.connect(\"IMDB.sqlite\")\n",
    "\n",
    "imdb=pd.read_sql_query(\"Select * from IMDB\",db)\n",
    "earnings=pd.read_sql_query(\"Select * from earning\",db)\n",
    "\n",
    "imdb_earning=pd.merge(imdb,earnings,on=\"Movie_id\")\n",
    "imdb_earning[\"Domestic\"].replace(\"\",0,inplace=True)\n",
    "imdb_earning[\"Worldwide\"].replace(\"\",0,inplace=True)\n",
    "\n",
    "idx=imdb_earning[imdb_earning[\"Budget\"]==\"\"].index\n",
    "imdb_earning.drop(idx,inplace=True)\n",
    "\n",
    "\n",
    "imdb_earning[\"Budget\"]=imdb_earning[\"Budget\"].apply(lambda x:int(float(x)))\n",
    "imdb_earning[\"Net_profit\"]=(imdb_earning[\"Domestic\"]+imdb_earning[\"Worldwide\"])-imdb_earning[\"Budget\"]\n",
    "least_budget=imdb_earning[imdb_earning[\"Budget\"]==min(imdb_earning[\"Budget\"])][\"Net_profit\"].values\n",
    "least_budget_maximum_profit=max(least_budget)\n",
    "movie_name=movie_name=imdb_earning[imdb_earning[\"Net_profit\"]==least_budget_maximum_profit][\"Title\"].values[0]\n",
    "print(movie_name)\n",
    "\n"
   ]
  },
  {
   "cell_type": "markdown",
   "metadata": {},
   "source": [
    "***Question 7:\n",
    "IMDB.sqlite' database contains all details of movies and has three tables with name IMDB, genre and earning.\n",
    "Find the highest-grossing movie (i.e domestic earning + worldwide earning) in IMDB database year wise.\n",
    "Print the Year and name of the movie which was the highest grosser in that year.\n",
    "Note:Print the year in ascending order.***"
   ]
  },
  {
   "cell_type": "code",
   "execution_count": 193,
   "metadata": {
    "scrolled": false
   },
   "outputs": [
    {
     "name": "stdout",
     "output_type": "stream",
     "text": [
      "2010 Toy Story 3 (2010)\n",
      "2011 Rise of the Planet of the Apes (2011)\n",
      "2012 The Avengers (2012)\n",
      "2013 The Hunger Games: Catching Fire (2013)\n",
      "2014 Guardians of the Galaxy (2014)\n",
      "2015 Star Wars: The Force Awakens (2015)\n",
      "2016 Rogue One (2016)\n"
     ]
    }
   ],
   "source": [
    "import sqlite3\n",
    "import pandas as pd\n",
    "db=sqlite3.connect(\"IMDB.sqlite\")\n",
    "\n",
    "imdb=pd.read_sql_query(\"Select * from IMDB\",db)\n",
    "earnings=pd.read_sql_query(\"Select * from earning\",db)\n",
    "imdb_earning=pd.merge(imdb,earnings,on=\"Movie_id\")\n",
    "def separateYear(name):\n",
    "    name=name.split(\"(\")[1]\n",
    "    return name    \n",
    "imdb_earning[\"Year\"]=imdb_earning[\"Title\"].apply(lambda x:str(str(x).replace(\")\",\"\")))\n",
    "imdb_earning[\"Year\"]=imdb_earning[\"Year\"].apply(separateYear)\n",
    "imdb_earning[\"Year\"].replace(\"The Unexpected Virtue of Ignorance\\xa0\",\"2014\",inplace=True)\n",
    "\n",
    "imdb_earning[\"Year\"]=imdb_earning[\"Year\"].apply(lambda x: int(str(x)))\n",
    "imdb_earning[\"Gross\"]=imdb_earning[\"Domestic\"]+imdb_earning[\"Worldwide\"]\n",
    "year_wise=imdb_earning.groupby(\"Year\")[\"Gross\"].max()\n",
    "year=year_wise.index\n",
    "income=year_wise.values\n",
    "\n",
    "for i in range(len(year)):\n",
    "    movie_name=imdb_earning[(imdb_earning[\"Year\"]==year[i]) & (imdb_earning[\"Gross\"]==income[i])][\"Title\"].values[0]\n",
    "    print(year[i],movie_name)"
   ]
  },
  {
   "cell_type": "markdown",
   "metadata": {},
   "source": [
    "***Question 8:\n",
    "IMDB.sqlite' database contains all details of movies and has three tables with name IMDB, genre and earning.\n",
    "Find out the percentage of the budget for each genre in IMDB Movie Dataset?Plot the pie chart.\n",
    "Print the genre and percentage of movies budget present in that genre with 2 decimal place after rounding off..\n",
    "Note: Movies has multiple genres, so calculate the percentage for each genre.Replace empty budget column to zero. Top 10***"
   ]
  },
  {
   "cell_type": "code",
   "execution_count": 230,
   "metadata": {},
   "outputs": [
    {
     "name": "stdout",
     "output_type": "stream",
     "text": [
      "Adventure 27.09\n",
      "Action 19.41\n",
      "Drama 11.71\n",
      "Sci-Fi 11.63\n",
      "Animation 8.27\n",
      "Comedy 7.79\n",
      "Fantasy 4.90\n",
      "Thriller 4.31\n",
      "Biography 2.80\n",
      "Mystery 2.10\n"
     ]
    },
    {
     "data": {
      "image/png": "[encoded data removed]",
      "text/plain": [
       "<Figure size 432x288 with 1 Axes>"
      ]
     },
     "metadata": {},
     "output_type": "display_data"
    }
   ],
   "source": [
    "import sqlite3\n",
    "import pandas as pd\n",
    "import numpy as np\n",
    "import matplotlib.pyplot as plt\n",
    "\n",
    "db=sqlite3.connect(\"IMDB.sqlite\")\n",
    "\n",
    "imdb=pd.read_sql_query(\"Select * from IMDB\",db)\n",
    "genre=pd.read_sql_query(\"Select * from genre\",db)\n",
    "\n",
    "imdb_genre=pd.merge(imdb,genre,on=\"Movie_id\")\n",
    "idx=imdb_genre[imdb_genre[\"genre\"]==\"\"].index\n",
    "imdb_genre.drop(idx,inplace=True)\n",
    "\n",
    "imdb_genre[\"Budget\"].replace(\"\",0,inplace=True)\n",
    "imdb_genre[\"Budget\"]=imdb_genre[\"Budget\"].apply(lambda x:int(float(x)))\n",
    "\n",
    "genre_counts=imdb_genre.groupby(\"genre\")[\"Budget\"].sum().sort_values(ascending=False)[0:10]\n",
    "genre_=genre_counts.index\n",
    "budget=genre_counts.values\n",
    "\n",
    "x=np.true_divide(budget,budget.sum())*100\n",
    "for i in range(len(genre_)):\n",
    "    print(genre_[i],format(x[i],'.2f'))\n",
    "\n",
    "plt.pie(budget,labels=genre_,autopct=\"%.2f%%\")\n",
    "plt.title(\"Percentage wise Budget allocation for Each Genre\")\n",
    "plt.axis(\"equal\")\n",
    "plt.show()"
   ]
  },
  {
   "cell_type": "markdown",
   "metadata": {},
   "source": [
    "***Question 9:\n",
    "IMDB.sqlite' database contains all details of movies and has three tables with name IMDB, genre and earning.\n",
    "Find out the percentage of the total earning for each genre in IMDB Movie Dataset?Plot the pie chart.\n",
    "Print the genre and percentage of movies total earning present in that genre with 2 decimal place after rounding off.\n",
    "Note: Movies has multiple genres, so calculate the percentage for each genre.Total Earning=Domestic earning + WorldWide earning. Top 10***"
   ]
  },
  {
   "cell_type": "code",
   "execution_count": 233,
   "metadata": {},
   "outputs": [
    {
     "name": "stdout",
     "output_type": "stream",
     "text": [
      "Adventure 25.38\n",
      "Action 19.29\n",
      "Drama 12.88\n",
      "Sci-Fi 10.71\n",
      "Comedy 8.28\n",
      "Animation 7.29\n",
      "Fantasy 5.55\n",
      "Thriller 4.76\n",
      "Biography 3.68\n",
      "Mystery 2.17\n"
     ]
    },
    {
     "data": {
      "image/png": "[encoded data removed]",
      "text/plain": [
       "<Figure size 432x288 with 1 Axes>"
      ]
     },
     "metadata": {},
     "output_type": "display_data"
    }
   ],
   "source": [
    "import sqlite3\n",
    "import numpy as np\n",
    "import pandas as pd\n",
    "import matplotlib.pyplot as plt\n",
    "\n",
    "db=sqlite3.connect(\"IMDB.sqlite\")\n",
    "earning=pd.read_sql_query(\"Select * from earning\",db)\n",
    "genre=pd.read_sql_query(\"Select * from genre\",db)\n",
    "\n",
    "earning_genre=pd.merge(earning,genre,on=\"Movie_id\")\n",
    "idx=earning_genre[earning_genre[\"genre\"]==\"\"].index\n",
    "earning_genre.drop(idx,inplace=True)\n",
    "\n",
    "earning_genre[\"Domestic\"].replace(\"\",0,inplace=True)\n",
    "earning_genre[\"Worldwide\"].replace(\"\",0,inplace=True)\n",
    "\n",
    "earning_genre[\"Earning\"]=earning_genre[\"Domestic\"]+earning_genre[\"Worldwide\"]\n",
    "genre_counts=earning_genre.groupby(\"genre\")[\"Earning\"].sum().sort_values(ascending=False)[0:10]\n",
    "genre_=genre_counts.index\n",
    "earning_=genre_counts.values\n",
    "\n",
    "x=np.true_divide(earning_,earning_.sum())*100\n",
    "for i in range(len(genre_)):\n",
    "    print(genre_[i],format(x[i],\".2f\"))\n",
    "    \n",
    "plt.pie(earning_,labels=genre_,autopct=\"%.2f%%\")\n",
    "plt.title(\"Genre wise Earning percentage\")\n",
    "plt.axis(\"equal\")\n",
    "plt.show()\n",
    "\n"
   ]
  },
  {
   "cell_type": "markdown",
   "metadata": {},
   "source": [
    "***Question 10:\n",
    "IMDB.sqlite' database contains all details of movies and has three tables with name IMDB, genre and earning.\n",
    "Find the movie which has genre of 'Sci-Fi' and 'Mystery' and movie rating is greater or equal to 8 from IMDB Movie Database.\n",
    "Print the movie name.\n",
    "Movies has multiple genre.***"
   ]
  },
  {
   "cell_type": "code",
   "execution_count": 280,
   "metadata": {},
   "outputs": [
    {
     "name": "stdout",
     "output_type": "stream",
     "text": [
      "Arrival (2016)\n"
     ]
    }
   ],
   "source": [
    "import sqlite3\n",
    "import pandas as pd\n",
    "\n",
    "db=sqlite3.connect(\"IMDB.sqlite\")\n",
    "\n",
    "imdb=pd.read_sql_query(\"Select * from IMDB\",db)\n",
    "genre=pd.read_sql_query(\"Select * from genre\",db)\n",
    "\n",
    "imdb_genre=pd.merge(imdb,genre,on=\"Movie_id\")\n",
    "data=imdb_genre[(imdb_genre[\"genre\"]==\"Sci-Fi\") | (imdb_genre[\"genre\"]==\"Mystery\") & (imdb_genre[\"Rating\"]>=8)][\"Movie_id\"].values[0]\n",
    "movie_name=imdb_genre[imdb_genre[\"Movie_id\"]==data][\"Title\"].values[0]\n",
    "print(movie_name)"
   ]
  },
  {
   "cell_type": "code",
   "execution_count": null,
   "metadata": {},
   "outputs": [],
   "source": []
  }
 ],
 "metadata": {
  "kernelspec": {
   "display_name": "Python 3",
   "language": "python",
   "name": "python3"
  },
  "language_info": {
   "codemirror_mode": {
    "name": "ipython",
    "version": 3
   },
   "file_extension": ".py",
   "mimetype": "text/x-python",
   "name": "python",
   "nbconvert_exporter": "python",
   "pygments_lexer": "ipython3",
   "version": "3.8.5"
  }
 },
 "nbformat": 4,
 "nbformat_minor": 4
}
